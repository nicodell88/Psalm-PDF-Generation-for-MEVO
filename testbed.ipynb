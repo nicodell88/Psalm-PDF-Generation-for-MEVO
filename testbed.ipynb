{
 "metadata": {
  "language_info": {
   "codemirror_mode": {
    "name": "ipython",
    "version": 3
   },
   "file_extension": ".py",
   "mimetype": "text/x-python",
   "name": "python",
   "nbconvert_exporter": "python",
   "pygments_lexer": "ipython3",
   "version": "3.6.5-final"
  },
  "orig_nbformat": 2,
  "kernelspec": {
   "name": "python3",
   "display_name": "Python 3"
  }
 },
 "nbformat": 4,
 "nbformat_minor": 2,
 "cells": [
  {
   "cell_type": "code",
   "execution_count": 5,
   "metadata": {},
   "outputs": [],
   "source": [
    "import json\n",
    "\n",
    "a = '1-5,7'\n",
    "b = a.split(',')\n",
    "for i in range(len(b)):\n",
    "    if  '-' in b[i]:\n",
    "        c = b[i].split('-')\n",
    "        #make vector of pages\n",
    "        #add to output\n",
    "    # else:\n",
    "        #find single page and add to vector"
   ]
  },
  {
   "cell_type": "code",
   "execution_count": null,
   "metadata": {},
   "outputs": [],
   "source": [
    "import json"
   ]
  }
 ]
}